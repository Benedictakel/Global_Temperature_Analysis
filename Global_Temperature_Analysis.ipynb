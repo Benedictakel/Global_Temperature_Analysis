{
  "nbformat": 4,
  "nbformat_minor": 0,
  "metadata": {
    "colab": {
      "provenance": [],
      "authorship_tag": "ABX9TyPSOAHoahYbEAQ/+Crd67HH"
    },
    "kernelspec": {
      "name": "python3",
      "display_name": "Python 3"
    },
    "language_info": {
      "name": "python"
    }
  },
  "cells": [
    {
      "cell_type": "code",
      "execution_count": null,
      "metadata": {
        "id": "1mPoM28qnh9Z"
      },
      "outputs": [],
      "source": [
        "import pandas as pd\n",
        "import numpy as np\n",
        "import matplotlib.pyplot as plt\n",
        "import seaborn as sns\n",
        "import plotly.express as px\n"
      ]
    },
    {
      "cell_type": "code",
      "source": [
        "url = \"https://raw.githubusercontent.com/datasets/global-temp/master/data/annual.csv\"\n",
        "df = pd.read_csv(url)\n",
        "df.head()\n"
      ],
      "metadata": {
        "id": "f2RO0XbvoUmw"
      },
      "execution_count": null,
      "outputs": []
    },
    {
      "cell_type": "code",
      "source": [
        "df.info()\n",
        "df.describe()\n",
        "df.columns  # ['Source', 'Year', 'Mean', 'Anomaly']\n"
      ],
      "metadata": {
        "id": "osIDTk5doYDc"
      },
      "execution_count": null,
      "outputs": []
    },
    {
      "cell_type": "code",
      "source": [
        "# Filter to global mean only\n",
        "df = df[df['Source'] == 'GISTEMP']\n",
        "\n",
        "# Drop 'Source' column\n",
        "df.drop('Source', axis=1, inplace=True)\n",
        "\n",
        "# Rename for clarity\n",
        "df.rename(columns={'Mean': 'Temperature', 'Anomaly': 'Temp_Anomaly'}, inplace=True)\n"
      ],
      "metadata": {
        "id": "a8RTnwxLoc0G"
      },
      "execution_count": null,
      "outputs": []
    },
    {
      "cell_type": "code",
      "source": [
        "plt.figure(figsize=(12, 6))\n",
        "sns.lineplot(x='Year', y='Temperature', data=df, color='tomato')\n",
        "plt.title(\"Global Average Temperature Over Time\")\n",
        "plt.ylabel(\"Temperature (°C)\")\n",
        "plt.grid(True)\n",
        "plt.show()\n"
      ],
      "metadata": {
        "id": "WB0KpB-uof3B"
      },
      "execution_count": null,
      "outputs": []
    },
    {
      "cell_type": "code",
      "source": [
        "plt.figure(figsize=(12, 6))\n",
        "sns.barplot(x='Year', y='Temp_Anomaly', data=df, palette='coolwarm')\n",
        "plt.axhline(0, color='black', linestyle='--')\n",
        "plt.title(\"Global Temperature Anomalies Over Time\")\n",
        "plt.xlabel(\"Year\")\n",
        "plt.ylabel(\"Anomaly (°C)\")\n",
        "plt.xticks(rotation=45)\n",
        "plt.tight_layout()\n",
        "plt.show()\n"
      ],
      "metadata": {
        "id": "ZvtgerZkomWe"
      },
      "execution_count": null,
      "outputs": []
    },
    {
      "cell_type": "code",
      "source": [
        "fig = px.line(df, x='Year', y='Temperature', title='Interactive Global Temperature Trend')\n",
        "fig.update_traces(line_color='firebrick')\n",
        "fig.show()\n"
      ],
      "metadata": {
        "id": "kxxcO-5ForPu"
      },
      "execution_count": null,
      "outputs": []
    },
    {
      "cell_type": "code",
      "source": [
        "df['Decade'] = (df['Year'] // 10) * 10\n",
        "decade_avg = df.groupby('Decade')['Temperature'].mean().reset_index()\n",
        "\n",
        "sns.barplot(x='Decade', y='Temperature', data=decade_avg, palette='Reds')\n",
        "plt.title(\"Average Global Temperature per Decade\")\n",
        "plt.xticks(rotation=45)\n",
        "plt.ylabel(\"Temp (°C)\")\n",
        "plt.show()\n"
      ],
      "metadata": {
        "id": "GLTvGd3oovXK"
      },
      "execution_count": null,
      "outputs": []
    }
  ]
}